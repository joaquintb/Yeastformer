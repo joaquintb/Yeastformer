{
 "cells": [
  {
   "cell_type": "code",
   "execution_count": null,
   "metadata": {},
   "outputs": [],
   "source": [
    "import torch\n",
    "import pickle\n",
    "import numpy as np\n",
    "import matplotlib.pyplot as plt\n",
    "import seaborn as sns\n",
    "from transformers import BertTokenizer, BertForMaskedLM\n",
    "from datasets import load_from_disk\n",
    "import random\n",
    "import os\n",
    "from tqdm import tqdm\n",
    "\n",
    "import torch.nn.functional as F\n",
    "from torch.utils.data import DataLoader\n",
    "from torch.nn.utils.rnn import pad_sequence\n",
    "from collections import defaultdict\n"
   ]
  },
  {
   "cell_type": "code",
   "execution_count": null,
   "metadata": {},
   "outputs": [],
   "source": [
    "seed_num = 0\n",
    "random.seed(seed_num)\n",
    "np.random.seed(seed_num)\n",
    "seed_val = 42\n",
    "torch.manual_seed(seed_val)\n",
    "torch.cuda.manual_seed_all(seed_val)"
   ]
  },
  {
   "cell_type": "code",
   "execution_count": null,
   "metadata": {},
   "outputs": [],
   "source": [
    "model_path = \"/home/logs/jtorresb/Geneformer/yeast/pretraining/models/250225_192022_yeastformer_L4_emb256_SL512_E20_B8_LR0.0016_LScosine_WU50_Oadamw_torch/models\"\n",
    "token_dict_path = \"/home/logs/jtorresb/Geneformer/yeast/yeast_data/output/yeast_token_dict.pkl\"\n",
    "\n",
    "# Load gene token dictionary\n",
    "with open(token_dict_path, \"rb\") as fp:\n",
    "    token_dictionary = pickle.load(fp)\n",
    "\n",
    "# Load model\n",
    "model = BertForMaskedLM.from_pretrained(model_path)\n",
    "model.eval()  # Set model to evaluation mode\n",
    "\n",
    "# Move model to GPU if available\n",
    "device = torch.device(\"cuda\" if torch.cuda.is_available() else \"cpu\")\n",
    "model.to(device)\n",
    "print(device)\n",
    "\n",
    "# Invert the token dictionary (if it maps gene_name -> token_id)\n",
    "id_to_gene = {v: k for k, v in token_dictionary.items()}"
   ]
  },
  {
   "cell_type": "code",
   "execution_count": null,
   "metadata": {},
   "outputs": [],
   "source": [
    "# -------------------------------\n",
    "# Load dataset and split into train/validation\n",
    "# ------------------------------\n",
    "dataset = load_from_disk(\"/home/logs/jtorresb/Geneformer/yeast/yeast_data/output/yeast_master_matrix_sgd.dataset\")\n",
    "#dataset_split = dataset.train_test_split(test_size=0.05, seed=seed_val)\n",
    "#train_dataset = dataset_split['train'].select(range(len(dataset_split['train'])))"
   ]
  },
  {
   "cell_type": "code",
   "execution_count": 5,
   "metadata": {},
   "outputs": [
    {
     "name": "stderr",
     "output_type": "stream",
     "text": [
      "BertSdpaSelfAttention is used but `torch.nn.functional.scaled_dot_product_attention` does not support non-absolute `position_embedding_type` or `output_attentions=True` or `head_mask`. Falling back to the manual attention implementation, but specifying the manual implementation will be required from Transformers version v5.0.0 onwards. This warning can be removed using the argument `attn_implementation=\"eager\"` when loading the model.\n",
      "We strongly recommend passing in an `attention_mask` since your input_ids may be padded. See https://huggingface.co/docs/transformers/troubleshooting#incorrect-output-when-padding-tokens-arent-masked.\n"
     ]
    }
   ],
   "source": [
    "# Define a collate function to pad the input_ids in a batch\n",
    "def collate_fn(batch):\n",
    "    # Each item in batch is assumed to be a dict with key \"input_ids\"\n",
    "    input_ids = [torch.tensor(sample['input_ids'], dtype=torch.long) for sample in batch]\n",
    "    lengths = [len(ids) for ids in input_ids]\n",
    "    padded = pad_sequence(input_ids, batch_first=True, padding_value=0)  # Assumes 0 is the pad token id\n",
    "    return padded, lengths, batch\n",
    "\n",
    "# Create a DataLoader – adjust batch_size based on your GPU memory\n",
    "batch_size = 8\n",
    "dataloader = DataLoader(dataset, batch_size=batch_size, shuffle=False, collate_fn=collate_fn)\n",
    "\n",
    "# Dictionary to accumulate statistics for each gene token\n",
    "# For each token id, we store:\n",
    "#   - \"positions\": a list of positions (ranks) where it appears in its sentences\n",
    "#   - \"sentence_ids\": a set of sentence indices where it appears (to count unique sentences)\n",
    "#   - \"embeddings\": a list of contextual embedding vectors (one per occurrence)\n",
    "gene_stats = defaultdict(lambda: {\"positions\": [], \"sentence_ids\": set(), \"embeddings\": []})\n",
    "\n",
    "global_sentence_idx = 0  # A global counter for sentence IDs\n",
    "\n",
    "model.eval()\n",
    "with torch.no_grad():\n",
    "    for batch_input_ids, lengths, original_batch in dataloader:\n",
    "        # Move the batch to the device (GPU/CPU)\n",
    "        batch_input_ids = batch_input_ids.to(device)\n",
    "        # Forward pass through the encoder with hidden states enabled\n",
    "        outputs = model.bert(batch_input_ids, output_hidden_states=True)\n",
    "        # Use the penultimate hidden state (second-to-last layer)\n",
    "        penultimate_hidden_state = outputs.hidden_states[-2]\n",
    "\n",
    "        # Loop over each sentence in the batch\n",
    "        for i, seq_length in enumerate(lengths):\n",
    "            # Get the tokens and embeddings for this sentence (exclude padded positions)\n",
    "            sentence_input_ids = batch_input_ids[i, :seq_length]\n",
    "            sentence_embeddings = penultimate_hidden_state[i, :seq_length]  # shape: (seq_length, hidden_dim)\n",
    "            \n",
    "            # Track tokens seen in this sentence (for sentence-level count)\n",
    "            seen_tokens = set()\n",
    "            for j in range(seq_length):\n",
    "                token_id = sentence_input_ids[j].item()\n",
    "                # Record the token's rank (position in the sentence)\n",
    "                gene_stats[token_id][\"positions\"].append(j)\n",
    "                # Save the corresponding embedding (moved to CPU and converted to numpy)\n",
    "                gene_stats[token_id][\"embeddings\"].append(sentence_embeddings[j].cpu().numpy())\n",
    "                seen_tokens.add(token_id)\n",
    "            \n",
    "            # Mark that these tokens appeared in the current sentence (unique count)\n",
    "            for token in seen_tokens:\n",
    "                gene_stats[token][\"sentence_ids\"].add(global_sentence_idx)\n",
    "            global_sentence_idx += 1"
   ]
  },
  {
   "cell_type": "code",
   "execution_count": 6,
   "metadata": {},
   "outputs": [],
   "source": [
    "results = {}  # Initialize a dictionary to store results for each gene token\n",
    "\n",
    "# Iterate over each token (gene) and its statistics in gene_stats\n",
    "for token_id, stats in gene_stats.items():\n",
    "    # Extract the list of positions (ranks) where this token appears in sentences\n",
    "    positions = stats[\"positions\"]\n",
    "    \n",
    "    # Compute the average rank (position) of this token if it appears in any sentence\n",
    "    avg_rank = np.mean(positions) if positions else None\n",
    "    \n",
    "    # Count the number of unique sentences in which this token appears\n",
    "    sentence_count = len(stats[\"sentence_ids\"])\n",
    "    \n",
    "    # Check if we have stored embeddings for this token\n",
    "    if stats[\"embeddings\"]:\n",
    "        # Stack the list of embedding vectors into a 2D NumPy array\n",
    "        # Shape will be: (number of occurrences, hidden_dim)\n",
    "        embeddings = np.stack(stats[\"embeddings\"])\n",
    "    else:\n",
    "        embeddings = None  # No embeddings were collected for this token\n",
    "    \n",
    "    # If embeddings exist and there is more than one occurrence\n",
    "    if embeddings is not None and embeddings.shape[0] > 1:\n",
    "        # Normalize each embedding vector to unit length along the feature dimension\n",
    "        norm_embeddings = embeddings / np.linalg.norm(embeddings, axis=1, keepdims=True)\n",
    "        \n",
    "        # Compute the cosine similarity matrix by taking the dot product of normalized embeddings\n",
    "        # Each element (i,j) in this matrix represents the cosine similarity between occurrence i and j\n",
    "        cos_sim_matrix = np.dot(norm_embeddings, norm_embeddings.T)\n",
    "        \n",
    "        # Extract the indices of the upper triangular part of the similarity matrix (excluding the diagonal)\n",
    "        # This ensures that each pair is considered only once and self-similarities are ignored\n",
    "        triu_indices = np.triu_indices_from(cos_sim_matrix, k=1)\n",
    "        \n",
    "        # Calculate the average similarity score from the upper triangle values\n",
    "        similarity_score = np.mean(cos_sim_matrix[triu_indices])\n",
    "    else:\n",
    "        # If there is only one occurrence or no embeddings, we cannot compute pairwise similarity\n",
    "        similarity_score = None\n",
    "\n",
    "    # Store the computed average rank, sentence count, and similarity score in the results dictionary\n",
    "    results[token_id] = {\n",
    "        \"avg_rank\": avg_rank,\n",
    "        \"sentence_count\": sentence_count,\n",
    "        \"similarity_score\": similarity_score\n",
    "    }"
   ]
  },
  {
   "cell_type": "code",
   "execution_count": 7,
   "metadata": {},
   "outputs": [
    {
     "name": "stdout",
     "output_type": "stream",
     "text": [
      "Report written to embeddings_report.txt\n"
     ]
    }
   ],
   "source": [
    "# Total number of sentences in the training dataset\n",
    "total_sentences = global_sentence_idx  # This counter was updated during processing\n",
    "\n",
    "report_filename = \"embeddings_report.txt\"\n",
    "with open(report_filename, \"w\") as f:\n",
    "    header = \"Gene\\tAvg_Rank\\tAppearance_Percentage\\tEmb_Similarity_Score\\n\"\n",
    "    f.write(header)\n",
    "    for token_id, stats in results.items():\n",
    "        gene_name = id_to_gene.get(token_id, f\"Token_{token_id}\")\n",
    "        avg_rank_str = f\"{stats['avg_rank']:.2f}\" if stats['avg_rank'] is not None else \"N/A\"\n",
    "        # Calculate the percentage of sentences where the gene appears\n",
    "        percentage = (len(gene_stats[token_id][\"sentence_ids\"]) / total_sentences) * 100\n",
    "        percentage_str = f\"{percentage:.2f}%\"\n",
    "        sim_score_str = f\"{stats['similarity_score']:.4f}\" if stats['similarity_score'] is not None else \"N/A\"\n",
    "        line = f\"{gene_name}\\t{avg_rank_str}\\t{percentage_str}\\t{sim_score_str}\\n\"\n",
    "        f.write(line)\n",
    "\n",
    "print(f\"Report written to {report_filename}\")"
   ]
  }
 ],
 "metadata": {
  "kernelspec": {
   "display_name": "geneformer",
   "language": "python",
   "name": "python3"
  },
  "language_info": {
   "codemirror_mode": {
    "name": "ipython",
    "version": 3
   },
   "file_extension": ".py",
   "mimetype": "text/x-python",
   "name": "python",
   "nbconvert_exporter": "python",
   "pygments_lexer": "ipython3",
   "version": "3.10.15"
  }
 },
 "nbformat": 4,
 "nbformat_minor": 2
}
