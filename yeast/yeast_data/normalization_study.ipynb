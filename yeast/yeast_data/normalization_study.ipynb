{
 "cells": [
  {
   "cell_type": "code",
   "execution_count": 4,
   "metadata": {},
   "outputs": [
    {
     "name": "stdout",
     "output_type": "stream",
     "text": [
      "Average Token Match Percentage: 3.04%\n",
      "Average Jaccard Similarity: 35.83%\n"
     ]
    }
   ],
   "source": [
    "import numpy as np\n",
    "import matplotlib.pyplot as plt\n",
    "from datasets import load_from_disk\n",
    "\n",
    "# Paths to datasets\n",
    "normalized_path = \"/home/logs/jtorresb/Geneformer/yeast/yeast_data/output/yeast_master_matrix_sgd.dataset\"\n",
    "non_normalized_path = \"/home/logs/jtorresb/Geneformer/yeast/yeast_data/output/unnormalized_yeast_master_matrix_sgd.dataset\"\n",
    "\n",
    "# Load datasets\n",
    "normalized_data = load_from_disk(normalized_path)\n",
    "non_normalized_data = load_from_disk(non_normalized_path)\n",
    "\n",
    "# Ensure same number of rows\n",
    "assert len(normalized_data) == len(non_normalized_data), \"Datasets have different lengths!\"\n",
    "\n",
    "# Compare tokenized sequences\n",
    "similarity_scores = []  # Store similarity percentage per row\n",
    "jaccard_scores = []     # Store Jaccard similarity per row\n",
    "\n",
    "for i in range(len(normalized_data)):\n",
    "    tokens_norm = normalized_data[i][\"input_ids\"]\n",
    "    tokens_non_norm = non_normalized_data[i][\"input_ids\"]\n",
    "    \n",
    "    # Ensure same length\n",
    "    min_len = min(len(tokens_norm), len(tokens_non_norm))\n",
    "    tokens_norm = tokens_norm[:min_len]\n",
    "    tokens_non_norm = tokens_non_norm[:min_len]\n",
    "    \n",
    "    # Compute token matching percentage\n",
    "    match_percentage = sum(np.array(tokens_norm) == np.array(tokens_non_norm)) / min_len\n",
    "    similarity_scores.append(match_percentage)\n",
    "\n",
    "    # Compute Jaccard similarity (set-based comparison)\n",
    "    jaccard = len(set(tokens_norm) & set(tokens_non_norm)) / len(set(tokens_norm) | set(tokens_non_norm))\n",
    "    jaccard_scores.append(jaccard)\n",
    "\n",
    "# Print summary statistics\n",
    "print(f\"Average Token Match Percentage: {np.mean(similarity_scores) * 100:.2f}%\")\n",
    "print(f\"Average Jaccard Similarity: {np.mean(jaccard_scores) * 100:.2f}%\")"
   ]
  }
 ],
 "metadata": {
  "kernelspec": {
   "display_name": "geneformer",
   "language": "python",
   "name": "python3"
  },
  "language_info": {
   "codemirror_mode": {
    "name": "ipython",
    "version": 3
   },
   "file_extension": ".py",
   "mimetype": "text/x-python",
   "name": "python",
   "nbconvert_exporter": "python",
   "pygments_lexer": "ipython3",
   "version": "3.10.15"
  }
 },
 "nbformat": 4,
 "nbformat_minor": 2
}
