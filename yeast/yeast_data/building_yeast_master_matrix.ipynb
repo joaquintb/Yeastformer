{
 "cells": [
  {
   "cell_type": "markdown",
   "metadata": {},
   "source": [
    "#### Normalizing each pcl file"
   ]
  },
  {
   "cell_type": "code",
   "execution_count": null,
   "metadata": {},
   "outputs": [],
   "source": [
    "import os\n",
    "import pandas as pd\n",
    "from sklearn.preprocessing import StandardScaler\n",
    "\n",
    "# Directory containing .pcl files\n",
    "pcl_directory = '/home/logs/jtorresb/Geneformer/yeast/yeast_data/normalized_pcls'\n",
    "\n",
    "files_processed = 0\n",
    "\n",
    "# Iterate over each .pcl file in the directory\n",
    "for file_name in os.listdir(pcl_directory):\n",
    "    if file_name.endswith(\".pcl\"):\n",
    "        file_path = os.path.join(pcl_directory, file_name)\n",
    "        try:\n",
    "            # Load the .pcl file\n",
    "            df = pd.read_csv(file_path, sep=\"\\t\", index_col=0)\n",
    "\n",
    "            # Exclude non-experiment columns from normalization (e.g., 'GWEIGHT', 'NAME', 'IDENTIFIER', etc.)\n",
    "            experiment_columns = [col for col in df.columns if col not in ['GWEIGHT', 'NAME', 'IDENTIFIER', 'Description', 'GENE']]\n",
    "\n",
    "            # Initialize the scaler\n",
    "            scaler = StandardScaler()\n",
    "\n",
    "            # Apply z-score normalization for each experiment column\n",
    "            df[experiment_columns] = scaler.fit_transform(df[experiment_columns])\n",
    "\n",
    "            # Save the modified DataFrame back to the same file\n",
    "            df.to_csv(file_path, sep=\"\\t\")\n",
    "\n",
    "            files_processed += 1\n",
    "\n",
    "        except Exception as e:\n",
    "            print(f\"Error processing file '{file_name}': {e}\")\n",
    "\n",
    "\n",
    "print(f\"Processed {files_processed} files.\")"
   ]
  },
  {
   "cell_type": "markdown",
   "metadata": {},
   "source": [
    "#### Merging"
   ]
  },
  {
   "cell_type": "code",
   "execution_count": null,
   "metadata": {},
   "outputs": [],
   "source": [
    "import os\n",
    "import pandas as pd\n",
    "\n",
    "# Directory containing .pcl files\n",
    "pcl_directory = '/home/logs/jtorresb/Geneformer/yeast/yeast_data/test_pcls'\n",
    "\n",
    "# Prepare an empty DataFrame to store the master matrix\n",
    "master_df = pd.DataFrame()\n",
    "\n",
    "# Iterate over each .pcl file in the directory\n",
    "for file_name in os.listdir(pcl_directory):\n",
    "    if file_name.endswith(\".pcl\"):\n",
    "        file_path = os.path.join(pcl_directory, file_name)\n",
    "        try:\n",
    "            # Load the .pcl file\n",
    "            df = pd.read_csv(file_path, sep=\"\\t\", index_col=0)\n",
    "\n",
    "            # Filter out only the experimental columns (exclude 'GWEIGHT', 'NAME', 'IDENTIFIER', 'Description', etc.)\n",
    "            experiment_columns = [col for col in df.columns if col not in ['GWEIGHT', 'NAME', 'IDENTIFIER', 'Description']]\n",
    "\n",
    "            # Keep only the rows and columns of interest (experiment columns)\n",
    "            df = df[experiment_columns]\n",
    "\n",
    "            # Merge this dataframe with the master dataframe (join by gene names/rows)\n",
    "            if master_df.empty:\n",
    "                master_df = df\n",
    "            else:\n",
    "                master_df = master_df.join(df, how='outer')  # 'outer' join to keep all genes\n",
    "\n",
    "        except Exception as e:\n",
    "            print(f\"Error processing file '{file_name}': {e}\")\n",
    "\n",
    "# Save the master matrix to a new file\n",
    "master_df.to_csv('/home/logs/jtorresb/Geneformer/yeast/yeast_data/output/test.csv', sep=\"\\t\")\n",
    "print(\"Master matrix created and saved.\")"
   ]
  },
  {
   "cell_type": "code",
   "execution_count": null,
   "metadata": {},
   "outputs": [],
   "source": [
    "import pandas as pd\n",
    "\n",
    "# Path to the CSV file\n",
    "csv_file_path = '/home/logs/jtorresb/Geneformer/yeast/yeast_data/output/test.csv'\n",
    "\n",
    "# Load the CSV file into a DataFrame\n",
    "df = pd.read_csv(csv_file_path, delimiter=\"\\t\", index_col=0)\n",
    "\n",
    "# Get the number of rows and columns\n",
    "num_rows, num_columns = df.shape\n",
    "\n",
    "# Print the results\n",
    "print(f\"Number of rows: {num_rows}\")\n",
    "print(f\"Number of columns: {num_columns}\")\n",
    "\n",
    "print(df.info())\n"
   ]
  },
  {
   "cell_type": "markdown",
   "metadata": {},
   "source": [
    "#### GWEIGHT"
   ]
  },
  {
   "cell_type": "code",
   "execution_count": null,
   "metadata": {},
   "outputs": [],
   "source": [
    "import os\n",
    "import pandas as pd\n",
    "\n",
    "# Directory containing .pcl files\n",
    "pcl_directory = '/home/logs/jtorresb/Geneformer/yeast/yeast_data/normalized_pcls'\n",
    "\n",
    "# List to store file names with non-uniform GWEIGHT values\n",
    "files_with_non_uniform_gweight = []\n",
    "\n",
    "# Iterate over each .pcl file in the directory\n",
    "for file_name in os.listdir(pcl_directory):\n",
    "    if file_name.endswith(\".pcl\"):\n",
    "        file_path = os.path.join(pcl_directory, file_name)\n",
    "        try:\n",
    "            # Load the .pcl file\n",
    "            df = pd.read_csv(file_path, sep=\"\\t\", index_col=0)\n",
    "\n",
    "            # Check if the 'GWEIGHT' column exists\n",
    "            if 'GWEIGHT' in df.columns:\n",
    "                # Check if all values in 'GWEIGHT' are equal to 1\n",
    "                if not (df['GWEIGHT'] == 1).all():\n",
    "                    files_with_non_uniform_gweight.append(file_name)\n",
    "\n",
    "        except Exception as e:\n",
    "            print(f\"Error processing file '{file_name}': {e}\")\n",
    "\n",
    "# Print the results\n",
    "if files_with_non_uniform_gweight:\n",
    "    print(\"Files with non-uniform GWEIGHT values:\")\n",
    "    for file in files_with_non_uniform_gweight:\n",
    "        print(file)\n",
    "else:\n",
    "    print(\"All files have GWEIGHT values uniformly equal to 1.\")"
   ]
  },
  {
   "cell_type": "markdown",
   "metadata": {},
   "source": [
    "#### Total number of columns"
   ]
  },
  {
   "cell_type": "code",
   "execution_count": 7,
   "metadata": {},
   "outputs": [
    {
     "name": "stdout",
     "output_type": "stream",
     "text": [
      "Total number of experiment columns across all files: 11889\n"
     ]
    }
   ],
   "source": [
    "import os\n",
    "import pandas as pd\n",
    "\n",
    "# Directory containing .pcl files\n",
    "pcl_directory = '/home/logs/jtorresb/Geneformer/yeast/yeast_data/normalized_pcls'\n",
    "\n",
    "# Counter for total number of experiment columns\n",
    "total_experiment_columns = 0\n",
    "\n",
    "# Iterate over each .pcl file in the directory\n",
    "for file_name in os.listdir(pcl_directory):\n",
    "    if file_name.endswith(\".pcl\"):\n",
    "        file_path = os.path.join(pcl_directory, file_name)\n",
    "        try:\n",
    "            # Load the .pcl file\n",
    "            df = pd.read_csv(file_path, sep=\"\\t\", index_col=0)\n",
    "\n",
    "            # Count the experiment columns (excluding 'GWEIGHT', 'NAME', 'IDENTIFIER', 'Description', etc.)\n",
    "            experiment_columns = [col for col in df.columns if col not in ['GWEIGHT', 'NAME', 'IDENTIFIER', 'Description']]\n",
    "            total_experiment_columns += len(experiment_columns)\n",
    "\n",
    "        except Exception as e:\n",
    "            print(f\"Error processing file '{file_name}': {e}\")\n",
    "\n",
    "# Print the total number of experiment columns\n",
    "print(f\"Total number of experiment columns across all files: {total_experiment_columns}\")\n"
   ]
  },
  {
   "cell_type": "markdown",
   "metadata": {},
   "source": [
    "##### Type of columns"
   ]
  },
  {
   "cell_type": "code",
   "execution_count": 2,
   "metadata": {},
   "outputs": [
    {
     "name": "stdout",
     "output_type": "stream",
     "text": [
      "All files processed and updated.\n"
     ]
    }
   ],
   "source": [
    "import os\n",
    "import pandas as pd\n",
    "\n",
    "# Directory containing .pcl files\n",
    "pcl_directory = '/home/logs/jtorresb/Geneformer/yeast/yeast_data/normalized_pcls'\n",
    "\n",
    "# Iterate over each .pcl file in the directory\n",
    "for file_name in os.listdir(pcl_directory):\n",
    "    if file_name.endswith(\".pcl\"):\n",
    "        file_path = os.path.join(pcl_directory, file_name)\n",
    "        try:\n",
    "            # Load the .pcl file\n",
    "            df = pd.read_csv(file_path, sep=\"\\t\", index_col=0)\n",
    "\n",
    "            # Filter out only the experimental columns (exclude 'GWEIGHT', 'NAME', 'IDENTIFIER', 'Description', etc.)\n",
    "            experiment_columns = [col for col in df.columns if col not in ['GWEIGHT', 'NAME', 'IDENTIFIER', 'Description']]\n",
    "\n",
    "            # Convert experiment columns to float32\n",
    "            df[experiment_columns] = df[experiment_columns].astype('float32')\n",
    "\n",
    "            # Save the updated DataFrame, overwriting the original file\n",
    "            df.to_csv(file_path, sep=\"\\t\")\n",
    "            # print(f\"File '{file_name}' updated successfully.\")\n",
    "\n",
    "        except Exception as e:\n",
    "            print(f\"Error processing file '{file_name}': {e}\")\n",
    "\n",
    "print(\"All files processed and updated.\")"
   ]
  }
 ],
 "metadata": {
  "kernelspec": {
   "display_name": "geneformer",
   "language": "python",
   "name": "python3"
  },
  "language_info": {
   "codemirror_mode": {
    "name": "ipython",
    "version": 3
   },
   "file_extension": ".py",
   "mimetype": "text/x-python",
   "name": "python",
   "nbconvert_exporter": "python",
   "pygments_lexer": "ipython3",
   "version": "3.10.15"
  }
 },
 "nbformat": 4,
 "nbformat_minor": 2
}
