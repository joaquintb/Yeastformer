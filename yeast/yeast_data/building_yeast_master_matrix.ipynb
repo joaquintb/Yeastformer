{
 "cells": [
  {
   "cell_type": "markdown",
   "metadata": {},
   "source": [
    "#### Normalizing each pcl file"
   ]
  },
  {
   "cell_type": "code",
   "execution_count": null,
   "metadata": {},
   "outputs": [],
   "source": [
    "import os\n",
    "import pandas as pd\n",
    "from sklearn.preprocessing import StandardScaler\n",
    "\n",
    "# Directory containing .pcl files\n",
    "pcl_directory = '/home/logs/jtorresb/Geneformer/yeast/yeast_data/normalized_pcls'\n",
    "\n",
    "files_processed = 0\n",
    "\n",
    "# Iterate over each .pcl file in the directory\n",
    "for file_name in os.listdir(pcl_directory):\n",
    "    if file_name.endswith(\".pcl\"):\n",
    "        file_path = os.path.join(pcl_directory, file_name)\n",
    "        try:\n",
    "            # Load the .pcl file\n",
    "            df = pd.read_csv(file_path, sep=\"\\t\", index_col=0)\n",
    "\n",
    "            # Exclude non-experiment columns from normalization (e.g., 'GWEIGHT', 'NAME', 'IDENTIFIER', etc.)\n",
    "            experiment_columns = [col for col in df.columns if col not in ['GWEIGHT', 'NAME', 'IDENTIFIER', 'Description', 'GENE']]\n",
    "\n",
    "            # Initialize the scaler\n",
    "            scaler = StandardScaler()\n",
    "\n",
    "            # Apply z-score normalization for each experiment column\n",
    "            df[experiment_columns] = scaler.fit_transform(df[experiment_columns])\n",
    "\n",
    "            # Save the modified DataFrame back to the same file\n",
    "            df.to_csv(file_path, sep=\"\\t\")\n",
    "\n",
    "            files_processed += 1\n",
    "\n",
    "        except Exception as e:\n",
    "            print(f\"Error processing file '{file_name}': {e}\")\n",
    "\n",
    "\n",
    "print(f\"Processed {files_processed} files.\")"
   ]
  },
  {
   "cell_type": "markdown",
   "metadata": {},
   "source": [
    "#### Merging"
   ]
  },
  {
   "cell_type": "code",
   "execution_count": 2,
   "metadata": {},
   "outputs": [
    {
     "name": "stdout",
     "output_type": "stream",
     "text": [
      "Master matrix created and saved.\n"
     ]
    }
   ],
   "source": [
    "import os\n",
    "import pandas as pd\n",
    "\n",
    "# Directory containing .pcl files\n",
    "pcl_directory = '/home/logs/jtorresb/Geneformer/yeast/yeast_data/test_pcls'\n",
    "\n",
    "# Prepare an empty DataFrame to store the master matrix\n",
    "master_df = pd.DataFrame()\n",
    "\n",
    "# Iterate over each .pcl file in the directory\n",
    "for file_name in os.listdir(pcl_directory):\n",
    "    if file_name.endswith(\".pcl\"):\n",
    "        file_path = os.path.join(pcl_directory, file_name)\n",
    "        try:\n",
    "            # Load the .pcl file\n",
    "            df = pd.read_csv(file_path, sep=\"\\t\", index_col=0)\n",
    "\n",
    "            # Filter out only the experimental columns (exclude 'GWEIGHT', 'NAME', 'IDENTIFIER', 'Description', etc.)\n",
    "            experiment_columns = [col for col in df.columns if col not in ['GWEIGHT', 'NAME', 'IDENTIFIER', 'Description']]\n",
    "\n",
    "            # Keep only the rows and columns of interest (experiment columns)\n",
    "            df = df[experiment_columns]\n",
    "\n",
    "            # Merge this dataframe with the master dataframe (join by gene names/rows)\n",
    "            if master_df.empty:\n",
    "                master_df = df\n",
    "            else:\n",
    "                master_df = master_df.join(df, how='outer')  # 'outer' join to keep all genes\n",
    "\n",
    "        except Exception as e:\n",
    "            print(f\"Error processing file '{file_name}': {e}\")\n",
    "\n",
    "# Save the master matrix to a new file\n",
    "master_df.to_csv('/home/logs/jtorresb/Geneformer/yeast/yeast_data/output/test.csv', sep=\"\\t\")\n",
    "print(\"Master matrix created and saved.\")"
   ]
  },
  {
   "cell_type": "code",
   "execution_count": 5,
   "metadata": {},
   "outputs": [
    {
     "name": "stdout",
     "output_type": "stream",
     "text": [
      "Master matrix created and saved.\n"
     ]
    }
   ],
   "source": [
    "import pandas as pd\n",
    "\n",
    "# Create some toy .pcl-like data manually\n",
    "df1 = pd.DataFrame({\n",
    "    'GWEIGHT': [1, 1, 1],\n",
    "    'NAME': ['gene1', 'gene2', 'gene3'],\n",
    "    'EXPT1': [3.5, 4.2, 5.1],\n",
    "    'EXPT2': [2.1, 3.1, 4.0]\n",
    "})\n",
    "df1.set_index('NAME', inplace=True)\n",
    "\n",
    "df2 = pd.DataFrame({\n",
    "    'GWEIGHT': [1, 1, 1],\n",
    "    'NAME': ['gene3', 'gene4', 'gene5'],\n",
    "    'EXPT3': [3.6, 4.1, 5.0],\n",
    "    'EXPT4': [2.2, 3.2, 4.1]\n",
    "})\n",
    "df2.set_index('NAME', inplace=True)\n",
    "\n",
    "df3 = pd.DataFrame({\n",
    "    'GWEIGHT': [1, 1, 1],\n",
    "    'NAME': ['gene5', 'gene6', 'gene7'],\n",
    "    'EXPT5': [2.5, 3.5, 4.4],\n",
    "    'EXPT6': [2.3, 3.3, 4.2]\n",
    "})\n",
    "df3.set_index('NAME', inplace=True)\n",
    "\n",
    "# Now, let's merge these dataframes into a master matrix\n",
    "master_df = pd.DataFrame()\n",
    "\n",
    "# List of toy datasets\n",
    "dfs = [df1, df2, df3]\n",
    "\n",
    "# Iterate over the toy dataframes\n",
    "for df in dfs:\n",
    "    # Filter out only the experimental columns (exclude 'GWEIGHT' and 'NAME')\n",
    "    experiment_columns = [col for col in df.columns if col not in ['GWEIGHT', 'NAME']]\n",
    "    \n",
    "    # Keep only the rows and columns of interest (experiment columns)\n",
    "    df_filtered = df[experiment_columns]\n",
    "    \n",
    "    # Merge this dataframe with the master dataframe (join by gene names/rows)\n",
    "    if master_df.empty:\n",
    "        master_df = df_filtered\n",
    "    else:\n",
    "        master_df = master_df.join(df_filtered, how='outer')  # 'outer' join to keep all genes\n",
    "\n",
    "master_df.to_csv('/home/logs/jtorresb/Geneformer/yeast/yeast_data/output/toy_test.csv', sep=\"\\t\")\n",
    "print(\"Master matrix created and saved.\")"
   ]
  }
 ],
 "metadata": {
  "kernelspec": {
   "display_name": "geneformer",
   "language": "python",
   "name": "python3"
  },
  "language_info": {
   "codemirror_mode": {
    "name": "ipython",
    "version": 3
   },
   "file_extension": ".py",
   "mimetype": "text/x-python",
   "name": "python",
   "nbconvert_exporter": "python",
   "pygments_lexer": "ipython3",
   "version": "3.10.15"
  }
 },
 "nbformat": 4,
 "nbformat_minor": 2
}
