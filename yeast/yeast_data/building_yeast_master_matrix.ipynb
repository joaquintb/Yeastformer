{
 "cells": [
  {
   "cell_type": "markdown",
   "metadata": {},
   "source": [
    "### Libraries"
   ]
  },
  {
   "cell_type": "code",
   "execution_count": 7,
   "metadata": {},
   "outputs": [],
   "source": [
    "import os\n",
    "import pandas as pd\n",
    "from itertools import combinations"
   ]
  },
  {
   "cell_type": "markdown",
   "metadata": {},
   "source": [
    "### Pre-checking"
   ]
  },
  {
   "cell_type": "markdown",
   "metadata": {},
   "source": [
    "#### Example"
   ]
  },
  {
   "cell_type": "code",
   "execution_count": null,
   "metadata": {},
   "outputs": [],
   "source": [
    "example_file = '/home/logs/jtorresb/Geneformer/yeast/yeast_data/all_spell_exprconn_pcl/Abbott_2008_PMID_18676708/GSE10066_setA_family.pcl'\n",
    "\n",
    "# Read the file without specifying index_col or header to inspect the content\n",
    "df_preview = pd.read_csv(example_file, sep=\"\\t\")\n",
    "\n",
    "# Print the first few rows and columns to inspect the structure\n",
    "print(\"First few rows of the file:\")\n",
    "print(df_preview.head())  # Print the first 5 rows\n",
    "\n",
    "print(\"\\nColumn names of the file:\")\n",
    "print(df_preview.columns.tolist())  # Print the column names\n",
    "\n",
    "print(\"\\nRow names (index) of the file:\")\n",
    "print(df_preview.index.tolist())  # Print the row names (index)"
   ]
  },
  {
   "cell_type": "markdown",
   "metadata": {},
   "source": [
    "#### Checking .pcl files per folder"
   ]
  },
  {
   "cell_type": "code",
   "execution_count": null,
   "metadata": {},
   "outputs": [],
   "source": [
    "# Base directory\n",
    "base_dir = \"/home/logs/jtorresb/Geneformer/yeast/yeast_data/all_spell_exprconn_pcl\"\n",
    "\n",
    "# List subfolders containing only one .pcl file\n",
    "for root, _, files in os.walk(base_dir):\n",
    "    # Filter for .pcl files in the current subfolder\n",
    "    pcl_files = [file for file in files if file.endswith(\".pcl\")]\n",
    "    \n",
    "    # Check if there is not exactly one .pcl file in the subfolder\n",
    "    if len(pcl_files) != 1:\n",
    "        print(f\"Subfolder: {root} contains {len(pcl_files)} .pcl files.\")"
   ]
  },
  {
   "cell_type": "markdown",
   "metadata": {},
   "source": [
    "#### Take an example and check duplicate columns names"
   ]
  },
  {
   "cell_type": "code",
   "execution_count": null,
   "metadata": {},
   "outputs": [],
   "source": [
    "target_dir = '/home/logs/jtorresb/Geneformer/yeast/yeast_data/all_spell_exprconn_pcl/Friedlander_2006_PMID_16542486'\n",
    "\n",
    "# List all .pcl files in the directory\n",
    "files = [file for file in os.listdir(target_dir) if file.endswith(\".pcl\")]\n",
    "\n",
    "# Load the columns for each file into a dictionary\n",
    "file_columns = {}\n",
    "for file in files:\n",
    "    file_path = os.path.join(target_dir, file)\n",
    "    try:\n",
    "        df = pd.read_csv(file_path, sep=\"\\t\", index_col=0)\n",
    "        file_columns[file] = set(df.columns)\n",
    "    except Exception as e:\n",
    "        print(f\"Error reading {file_path}: {e}\")\n",
    "\n",
    "# Compute pairwise intersections of columns\n",
    "for (file1, cols1), (file2, cols2) in combinations(file_columns.items(), 2):\n",
    "    common_columns = cols1.intersection(cols2)\n",
    "    print(f\"Common columns between '{file1}' and '{file2}':\")\n",
    "    print(list(common_columns))\n",
    "    print()"
   ]
  },
  {
   "cell_type": "markdown",
   "metadata": {},
   "source": [
    "#### Among which datasets is there a column name conflict?"
   ]
  },
  {
   "cell_type": "code",
   "execution_count": null,
   "metadata": {},
   "outputs": [],
   "source": [
    "# Parent directory\n",
    "parent_dir = '/home/logs/jtorresb/Geneformer/yeast/yeast_data/all_spell_exprconn_pcl'\n",
    "\n",
    "# Columns to exclude from the check\n",
    "excluded_columns = {'GWEIGHT', 'NAME'}\n",
    "\n",
    "# Dictionary to store column names for each file\n",
    "file_columns = {}\n",
    "\n",
    "# Iterate through subfolders and collect columns from .pcl files\n",
    "for root, _, files in os.walk(parent_dir):\n",
    "    for file in files:\n",
    "        if file.endswith(\".pcl\"):\n",
    "            file_path = os.path.join(root, file)\n",
    "            try:\n",
    "                # Read the file and store columns excluding specific names\n",
    "                df = pd.read_csv(file_path, sep=\"\\t\", index_col=0)\n",
    "                file_columns[file_path] = set(df.columns) - excluded_columns\n",
    "            except Exception as e:\n",
    "                print(f\"Error reading {file_path}: {e}\")\n",
    "\n",
    "# Check for repeated column names between all file pairs\n",
    "for (file1, cols1), (file2, cols2) in combinations(file_columns.items(), 2):\n",
    "    common_columns = cols1.intersection(cols2)\n",
    "    if common_columns:  # Only print if there are overlaps\n",
    "        print(f\"'{file1}' and '{file2}':\")\n",
    "        print(list(common_columns))\n",
    "        print()"
   ]
  }
 ],
 "metadata": {
  "kernelspec": {
   "display_name": "geneformer",
   "language": "python",
   "name": "python3"
  },
  "language_info": {
   "codemirror_mode": {
    "name": "ipython",
    "version": 3
   },
   "file_extension": ".py",
   "mimetype": "text/x-python",
   "name": "python",
   "nbconvert_exporter": "python",
   "pygments_lexer": "ipython3",
   "version": "3.10.15"
  }
 },
 "nbformat": 4,
 "nbformat_minor": 2
}
